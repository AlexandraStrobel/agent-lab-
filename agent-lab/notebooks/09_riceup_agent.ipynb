{
 "cells": [
  {
   "cell_type": "markdown",
   "metadata": {},
   "source": [
    "# **Step 09 - Rice Up! agent**\n",
    "\n",
    "## Rice Up! ordering agent\n",
    "\n",
    "Now that we have a working *Food ordering agent* for the Italian restaurant, we are going to build a new agent from scratch.\n",
    "\n",
    "This time we will build an ordering agent for *Rice Up!*, an Asian fusion restaurant. \n",
    "\n",
    "As before, our goal is to create a solution which can use natural language to:  \n",
    "\n",
    "  - Provide information regarding opening hours of the restaurant and available menus.\n",
    "  - Place an order.\n",
    "  - Ask for your pending orders.\n",
    "  - Cancel a pending order.\n",
    "\n",
    "## Adapting the existing agent\n",
    "\n",
    "You can reuse the code developed in the previous steps of the lab and adapt the relevant sections to create an agent for the *Rice Up!* restaurant.\n",
    "\n",
    "In order to support the new restaurant menu, you will need to adapt the available food options. Please read [this guide](../docs/understanding-the-use-case.md) to understand how the data is stored and saved to a  local SQL-Lite database. You can use the [Utility Notebook](./99-db_utility.ipynb) to reset the database and load data from your prepared json files.  \n",
    "\n",
    "## Implemenation\n",
    "\n",
    "You can implement the new agent in the Jupyter notebooks as before, or in a standalone python application. If you choose Jupyter notebooks, feel free to adapt the notebooks from the previous steps of the lab, or add the code to this notebook and execute it from here. \n"
   ]
  }
 ],
 "metadata": {
  "kernelspec": {
   "display_name": "Python 3 (ipykernel)",
   "language": "python",
   "name": "python3"
  },
  "language_info": {
   "codemirror_mode": {
    "name": "ipython",
    "version": 3
   },
   "file_extension": ".py",
   "mimetype": "text/x-python",
   "name": "python",
   "nbconvert_exporter": "python",
   "pygments_lexer": "ipython3",
   "version": "3.12.4"
  }
 },
 "nbformat": 4,
 "nbformat_minor": 4
}
